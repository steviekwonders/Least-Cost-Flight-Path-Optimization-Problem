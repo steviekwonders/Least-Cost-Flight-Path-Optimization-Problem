{
 "cells": [
  {
   "cell_type": "code",
   "execution_count": 16,
   "metadata": {},
   "outputs": [],
   "source": [
    "#get the sheet from the workbook\n",
    "import numpy as np\n",
    "import openpyxl\n",
    "from openpyxl import Workbook\n",
    "from openpyxl import load_workbook\n",
    "loc=\"/Users/samuelsmith/Desktop/Python/ExcelFiles/TexasAirways.xlsx\"\n",
    "texasair=load_workbook(loc)\n",
    "sheet=texasair[\"Data\"]"
   ]
  },
  {
   "cell_type": "code",
   "execution_count": 17,
   "metadata": {},
   "outputs": [
    {
     "name": "stdout",
     "output_type": "stream",
     "text": [
      "Starting cell for row labels:D2\n",
      "2\n",
      "Possible cities are:  ['Dallas', 'Houston', 'Austin', 'Total Distance', 'San Antonio', 'Lubbock', 'El Paso']\n"
     ]
    }
   ],
   "source": [
    "#get the starting column and starting cells from the user\n",
    "row=input(\"Starting cell for row labels:\",)\n",
    "\n",
    "\n",
    "#import python module for alphabet\n",
    "import string \n",
    "alph=set(string.ascii_uppercase)\n",
    "\n",
    "#split the input into two parts..letter and number\n",
    "letter=row[0]\n",
    "numeric=row.replace(row[0],\"\")\n",
    "print(numeric)\n",
    "\n",
    "#validate that the user entered a capital letter followed by a number \n",
    "if set(letter).issubset(alph) and numeric.isdigit()==True:\n",
    "    introw=int(numeric)\n",
    "#find the list of names for the row headers\n",
    "    test=\"test\"\n",
    "    mylist=[]\n",
    "    while type(sheet[row[0]+str(introw)].value)==type(test):\n",
    "        mylist=mylist+[(sheet[row[0]+str(introw)].value)]\n",
    "        introw=introw+1\n",
    "    size=len(mylist)\n",
    "    print(\"Possible cities are: \",mylist)\n",
    "else:\n",
    "    print(\"User input must be a valid capital letter followed by a number!\")\n",
    "\n",
    "\n"
   ]
  },
  {
   "cell_type": "code",
   "execution_count": 18,
   "metadata": {},
   "outputs": [
    {
     "name": "stdout",
     "output_type": "stream",
     "text": [
      "Distance Matrix= \n",
      " [[   0   55   40 1000 1000 1000 1000]\n",
      " [  55    0   35   60 1000 1000 1000]\n",
      " [  40   35    0 1000   30 1000 1000]\n",
      " [1000   60 1000    0   35 1000  100]\n",
      " [1000 1000   30   35    0   80 1000]\n",
      " [1000 1000 1000 1000   80    0   75]\n",
      " [1000 1000 1000  100 1000   75    0]]\n"
     ]
    }
   ],
   "source": [
    "#if there is data entered....perform \n",
    "if size>=1:\n",
    "    letters=list(string.ascii_uppercase)\n",
    "    #create the lists of lists of data\n",
    "    bgncol=letters.index(row[0])+2\n",
    "    Biglist=[]\n",
    "\n",
    "    #extract the data from the worksheet\n",
    "    for k in range(0,size):\n",
    "        newlist=[]\n",
    "        for i in range(0,size):\n",
    "            if type(sheet.cell(row=int(numeric)+k,column=bgncol+i).value)==type(2):\n",
    "                newlist.insert(i,sheet.cell(row=int(numeric)+k,column=int(bgncol)+i).value)\n",
    "                \n",
    "            else:\n",
    "                newlist.insert(i,0) \n",
    "        Biglist=Biglist+[newlist]\n",
    "    \n",
    "    #Create the symmetric D matrix without using for loops\n",
    "    D=np.array(Biglist)\n",
    "    D=np.maximum(D,D.T)\n",
    "    D[D==0]=1000\n",
    "    np.fill_diagonal(D,0)\n",
    "    print(\"Distance Matrix=\",\"\\n\",D)\n",
    "    Dprime=D.copy()#creates a copy of origingal D matrix\n",
    "else:\n",
    "    print(\"Sorry, but we can't proceed without any data\")\n",
    "\n"
   ]
  },
  {
   "cell_type": "code",
   "execution_count": 19,
   "metadata": {},
   "outputs": [
    {
     "name": "stdout",
     "output_type": "stream",
     "text": [
      "Original P matrix \n",
      " [[   0   55   40 1000 1000 1000 1000]\n",
      " [  55    0   35   60 1000 1000 1000]\n",
      " [  40   35    0 1000   30 1000 1000]\n",
      " [1000   60 1000    0   35 1000  100]\n",
      " [1000 1000   30   35    0   80 1000]\n",
      " [1000 1000 1000 1000   80    0   75]\n",
      " [1000 1000 1000  100 1000   75    0]]\n",
      "Desired P matrix \n",
      " [[ 0  1  2 -1 -1 -1 -1]\n",
      " [ 0  1  2  3 -1 -1 -1]\n",
      " [ 0  1  2 -1  4 -1 -1]\n",
      " [-1  1 -1  3  4 -1  6]\n",
      " [-1 -1  2  3  4  5 -1]\n",
      " [-1 -1 -1 -1  4  5  6]\n",
      " [-1 -1 -1  3 -1  5  6]]\n"
     ]
    }
   ],
   "source": [
    "if size>=1:\n",
    "    #create the P matrix\n",
    "    #remove the 1000 and replace with -1\n",
    "    P=D.copy()\n",
    "    print(\"Original P matrix\",\"\\n\",P)\n",
    "    P[P>=1000]=-1\n",
    "\n",
    "\n",
    "    #deal with issue of arc and column values without a loop\n",
    "    find=np.where(P>0)\n",
    "    x=list(find[0])\n",
    "    y=list(find[1])\n",
    "    P[x,y]=y\n",
    "\n",
    "    #fill in the diagonal\n",
    "    rng=np.arange(0,size)\n",
    "    np.fill_diagonal(P,rng)\n",
    "    print(\"Desired P matrix\",\"\\n\",P)\n",
    "\n",
    "    Pprime=P.copy()\n",
    "else:\n",
    "    print(\"Sorry, but we can't proceed without any data\")\n"
   ]
  },
  {
   "cell_type": "code",
   "execution_count": 20,
   "metadata": {},
   "outputs": [
    {
     "name": "stdout",
     "output_type": "stream",
     "text": [
      "The final D matrix  \n",
      " [[  0  55  40 105  70 150 205]\n",
      " [ 55   0  35  60  65 145 160]\n",
      " [ 40  35   0  65  30 110 165]\n",
      " [105  60  65   0  35 115 100]\n",
      " [ 70  65  30  35   0  80 135]\n",
      " [150 145 110 115  80   0  75]\n",
      " [205 160 165 100 135  75   0]]\n",
      "The final P matrix  \n",
      " [[0 1 2 2 2 2 2]\n",
      " [0 1 2 3 2 2 3]\n",
      " [0 1 2 4 4 4 4]\n",
      " [4 1 4 3 4 4 6]\n",
      " [2 2 2 3 4 5 3]\n",
      " [4 4 4 4 4 5 6]\n",
      " [3 3 3 3 3 5 6]]\n"
     ]
    }
   ],
   "source": [
    "if size>=1:\n",
    "    #create the iterations for the D matrix\n",
    "    for k in range(0,size):\n",
    "        for i in range(0,size):\n",
    "            for j in range(0,size):\n",
    "                if Dprime[i,j]<=Dprime[i,k]+Dprime[k,j]:\n",
    "                    Dprime[i,j]=Dprime[i,j]\n",
    "                    Pprime[i,j]=Pprime[i,j]\n",
    "                else:\n",
    "                    Dprime[i,j]=Dprime[i,k]+Dprime[k,j]\n",
    "                    Pprime[i,j]=Pprime[i,k]\n",
    "    print(\"The final D matrix \",\"\\n\",Dprime)\n",
    "    print(\"The final P matrix \",\"\\n\",Pprime)\n",
    "\n"
   ]
  },
  {
   "cell_type": "code",
   "execution_count": 21,
   "metadata": {},
   "outputs": [
    {
     "name": "stdout",
     "output_type": "stream",
     "text": [
      "Proceed with finding the distance and path? yes\n",
      "starting destination,(insert space after comma) final destination no\n",
      "The Results: \n",
      " Here is total distance:  You must input a starting and ending destination . Here is the path: \n"
     ]
    }
   ],
   "source": [
    "if size>=1:\n",
    "    def CalculateTrip(Dfinal,Pfinal,cities):\n",
    "        #save header for tables in excel\n",
    "        sheet[\"A\"+str(size+2+int(numeric))].value=\"Starting flight\"\n",
    "        sheet[\"B\"+str(size+2+int(numeric))].value=\"Destination\"\n",
    "        sheet[\"C\"+str(size+2+int(numeric))].value=\"Total Distance\"\n",
    "        sheet[\"D\"+str(size+2+int(numeric))].value=\"Sequence of flights\"\n",
    "        \n",
    "        texasair.save(loc)\n",
    "        \n",
    "        #create variable to move output location\n",
    "        iterations=0\n",
    "        \n",
    "        #get input from user\n",
    "        cont=input(\"Proceed with finding the distance and path? \",)\n",
    "        \n",
    "        #if they dont want to continue, stop the program\n",
    "        if cont!=\"yes\" and cont!=\"Yes\":\n",
    "            TotalDistance=\"You chose not to continue\"\n",
    "            finalpath=\"\"\n",
    "            return TotalDistance,finalpath\n",
    "        \n",
    "        #else, run the program for computations\n",
    "        while cont==\"yes\"or cont==\"Yes\":\n",
    "            iterations+=1\n",
    "            import numpy as np\n",
    "            trip=input(\"starting destination,(insert space after comma) final destination \",).split(\", \")\n",
    "            \n",
    "            if len(trip)==2:\n",
    "                \n",
    "                #data validation that city is an input\n",
    "                test=set(trip).issubset(set(cities))\n",
    "\n",
    "                if test==False:\n",
    "                    TotalDistance=\"none\"\n",
    "                    finalpath=\"Error! The entry of cities is not correct. Please review the guidelines.\"\n",
    "                elif trip[0]==trip[1]:\n",
    "                    TotalDistance=\"none\"\n",
    "                    finalpath=\"Starting and ending destination must be different cities!\"\n",
    "\n",
    "                if test==True and trip[0]!=trip[1]:\n",
    "                    start=cities.index(trip[0])\n",
    "                    end=cities.index(trip[1])\n",
    "                    TotalDistance=Dfinal[start,end]\n",
    "\n",
    "                    path=[start]\n",
    "                    while start!=end:\n",
    "                        start=Pprime[start,end]\n",
    "                        path=path+[start]\n",
    "                    finalpath=list(np.array(cities)[path])\n",
    "\n",
    "                #convert list to string and remove \n",
    "                strpath=str(finalpath).replace(\"[\",\"\")\n",
    "                strpath2=strpath.replace(\"]\",\"\")\n",
    "                strpath3=strpath2.replace(\"'\",\"\")\n",
    "\n",
    "                #output to excel\n",
    "                sheet[\"A\"+str(size+2+int(numeric)+iterations)].value=trip[0]\n",
    "                sheet[\"B\"+str(size+2+int(numeric)+iterations)].value=trip[1]\n",
    "                sheet[\"C\"+str(size+2+int(numeric)+iterations)].value=TotalDistance\n",
    "                sheet[\"D\"+str(size+2+int(numeric)+iterations)].value=strpath3\n",
    "                \n",
    "                \n",
    "                #save to file\n",
    "                texasair.save(loc)\n",
    "\n",
    "\n",
    "                #print stuff for Python user\n",
    "                print(\"Total Distance is: \", TotalDistance,\"\\n\",\"The path is: \",finalpath)\n",
    "\n",
    "                #ask user if they want to continue\n",
    "                cont=input(\"Unsatisfied with results and want to try again? \",)\n",
    "\n",
    "                #if cont=no, then stop\n",
    "                if cont!=\"yes\" and cont!=\"Yes\":\n",
    "                    return TotalDistance,finalpath\n",
    "            else:\n",
    "                return \"You must input a starting and ending destination\",\"\"\n",
    "            \n",
    "    #return the final distance and path to the calling variable\n",
    "    distance,how=CalculateTrip(Dprime,Pprime,mylist)\n",
    "    print(\"The Results:\",\"\\n\",\"Here is total distance: \", distance,\".\",\"Here is the path:\" ,how)"
   ]
  }
 ],
 "metadata": {
  "kernelspec": {
   "display_name": "Python 3",
   "language": "python",
   "name": "python3"
  },
  "language_info": {
   "codemirror_mode": {
    "name": "ipython",
    "version": 3
   },
   "file_extension": ".py",
   "mimetype": "text/x-python",
   "name": "python",
   "nbconvert_exporter": "python",
   "pygments_lexer": "ipython3",
   "version": "3.7.6"
  }
 },
 "nbformat": 4,
 "nbformat_minor": 2
}
